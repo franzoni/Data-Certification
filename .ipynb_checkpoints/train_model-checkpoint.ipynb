{
 "cells": [
  {
   "cell_type": "code",
   "execution_count": 1,
   "metadata": {
    "collapsed": false
   },
   "outputs": [],
   "source": [
    "# Running on GPU?\n",
    "\n",
    "# import setGPU"
   ]
  },
  {
   "cell_type": "markdown",
   "metadata": {},
   "source": [
    "# Autoencoders for Data Certification"
   ]
  },
  {
   "cell_type": "code",
   "execution_count": 2,
   "metadata": {
    "collapsed": true
   },
   "outputs": [],
   "source": [
    "# Imports...\n",
    "\n",
    "import getpass\n",
    "import h5py\n",
    "import matplotlib\n",
    "import matplotlib.pyplot as plt\n",
    "import os"
   ]
  },
  {
   "cell_type": "code",
   "execution_count": 3,
   "metadata": {
    "collapsed": false
   },
   "outputs": [
    {
     "name": "stdout",
     "output_type": "stream",
     "text": [
      "········\n"
     ]
    },
    {
     "data": {
      "text/plain": [
       "0"
      ]
     },
     "execution_count": 3,
     "metadata": {},
     "output_type": "execute_result"
    }
   ],
   "source": [
    "# Get permission to access EOS (Insert your NICE password)\n",
    "\n",
    "os.system(\"echo %s | kinit\" % getpass.getpass())"
   ]
  },
  {
   "cell_type": "code",
   "execution_count": 4,
   "metadata": {
    "collapsed": false
   },
   "outputs": [],
   "source": [
    "# Change presentation settings\n",
    "\n",
    "%matplotlib inline\n",
    "\n",
    "matplotlib.rcParams[\"figure.figsize\"] = (8.0, 5.0)\n",
    "matplotlib.rcParams[\"xtick.labelsize\"] = 12\n",
    "matplotlib.rcParams[\"ytick.labelsize\"] = 12\n",
    "matplotlib.rcParams[\"axes.spines.left\"] = True\n",
    "matplotlib.rcParams[\"axes.spines.bottom\"] = True\n",
    "matplotlib.rcParams[\"axes.spines.right\"] = False\n",
    "matplotlib.rcParams[\"axes.spines.top\"] = False\n",
    "matplotlib.rcParams[\"axes.labelsize\"] = 14\n",
    "matplotlib.rcParams[\"legend.fontsize\"] = 14\n",
    "matplotlib.rcParams[\"axes.titlesize\"] = 14\n",
    "\n",
    "color_palette = {\"Indigo\": {\n",
    "                    50: \"#E8EAF6\",\n",
    "                    100: \"#C5CAE9\",\n",
    "                    200: \"#9FA8DA\",\n",
    "                    300: \"#7986CB\",\n",
    "                    400: \"#5C6BC0\",\n",
    "                    500: \"#3F51B5\",\n",
    "                    600: \"#3949AB\",\n",
    "                    700: \"#303F9F\",\n",
    "                    800: \"#283593\",\n",
    "                    900: \"#1A237E\"},\n",
    "                 \"Teal\": {      \n",
    "                    50: \"#E0F2F1\",\n",
    "                    100: \"#B2DFDB\",\n",
    "                    200: \"#80CBC4\",\n",
    "                    300: \"#4DB6AC\",\n",
    "                    400: \"#26A69A\",\n",
    "                    500: \"#009688\",\n",
    "                    600: \"#00897B\",\n",
    "                    700: \"#00796B\",\n",
    "                    800: \"#00695C\",\n",
    "                    900: \"#004D40\"}\n",
    "                }\n",
    "\n",
    "line_styles = [(0, ()), (0, (1, 3)), (0, (3, 2))]"
   ]
  },
  {
   "cell_type": "markdown",
   "metadata": {},
   "source": [
    "## Load data, and labels"
   ]
  },
  {
   "cell_type": "code",
   "execution_count": 5,
   "metadata": {
    "collapsed": true
   },
   "outputs": [],
   "source": [
    "import json\n",
    "import numpy as np\n",
    "import pandas as pd"
   ]
  },
  {
   "cell_type": "code",
   "execution_count": 6,
   "metadata": {
    "collapsed": true
   },
   "outputs": [],
   "source": [
    "PDs  = {1: 'BTagCSV',\n",
    "        2: 'BTagMu',\n",
    "        3: 'Charmonium',\n",
    "        4: 'DisplacedJet',\n",
    "        5: 'DoubleEG',\n",
    "        6: 'DoubleMuon',\n",
    "        7: 'DoubleMuonLowMass',\n",
    "        8: 'FSQJets',\n",
    "        9: 'HighMultiplicityEOF',\n",
    "        10: 'HTMHT',\n",
    "        11: 'JetHT',\n",
    "        12: 'MET',\n",
    "        13: 'MinimumBias',\n",
    "        14: 'MuonEG',\n",
    "        15: 'MuOnia',\n",
    "        16: 'NoBPTX',\n",
    "        17: 'SingleElectron',\n",
    "        18: 'SingleMuon',\n",
    "        19: 'SinglePhoton',\n",
    "        20: 'Tau',\n",
    "        21: 'ZeroBias'}\n",
    "\n",
    "# Select PD\n",
    "nPD = 11"
   ]
  },
  {
   "cell_type": "code",
   "execution_count": 7,
   "metadata": {
    "collapsed": true
   },
   "outputs": [],
   "source": [
    "data_directory = \"/eos/cms/store/user/fsiroky/consistentlumih5/\"\n",
    "label_file = \"./JetHT.json\"\n",
    "model_directory = \"./\"\n",
    "model_name = \"model_original\""
   ]
  },
  {
   "cell_type": "code",
   "execution_count": 8,
   "metadata": {
    "collapsed": false
   },
   "outputs": [],
   "source": [
    "def get_file_list(directory, pds, npd, typeof, extension):\n",
    "    files = []\n",
    "    parts = [\"C\", \"D\", \"E\", \"F\", \"G\", \"H\"]\n",
    "    for p in parts:\n",
    "        files.append(\"%s%s_%s_%s%s\" % (directory, pds[npd], p, typeof, extension))\n",
    "    return files\n",
    "\n",
    "files = get_file_list(data_directory, PDs, nPD, \"background\", \".h5\")\n",
    "files = files + get_file_list(data_directory, PDs, nPD, \"signal\", \".h5\")"
   ]
  },
  {
   "cell_type": "code",
   "execution_count": null,
   "metadata": {
    "collapsed": false
   },
   "outputs": [
    {
     "name": "stdout",
     "output_type": "stream",
     "text": [
      "Reading: JetHT_C_background\n",
      "Reading: JetHT_D_background\n",
      "Reading: JetHT_E_background\n",
      "Reading: JetHT_F_background\n",
      "Reading: JetHT_G_background\n",
      "Reading: JetHT_H_background\n",
      "Reading: JetHT_C_signal\n",
      "Reading: JetHT_D_signal\n",
      "Reading: JetHT_E_signal\n",
      "Reading: JetHT_F_signal\n",
      "Reading: JetHT_G_signal\n",
      "Reading: JetHT_H_signal\n"
     ]
    }
   ],
   "source": [
    "# Load good and bad jets\n",
    "\n",
    "def get_data(files):\n",
    "    readout = np.empty([0,2813])\n",
    "    \n",
    "    for file in files:\n",
    "        jet = file.split(\"/\")[-1][:-3]\n",
    "        print(\"Reading: %s\" % jet)\n",
    "        try:\n",
    "            h5file = h5py.File(file, \"r\")\n",
    "            readout = np.concatenate((readout, h5file[jet][:]), axis=0)\n",
    "        except OSError as error:\n",
    "            print(\"This Primary Dataset doesn't have %s. %s\" % (jet, error))\n",
    "            continue\n",
    "\n",
    "    return readout\n",
    "\n",
    "data = pd.DataFrame(get_data(files))"
   ]
  },
  {
   "cell_type": "code",
   "execution_count": null,
   "metadata": {
    "collapsed": false
   },
   "outputs": [],
   "source": [
    "data[\"run\"] = data[2807].astype(int)\n",
    "data[\"lumi\"] = data[2808].astype(int)\n",
    "data[\"inst_lumi\"] = data[2809].astype(float)\n",
    "\n",
    "# Drop unnecessary meta data\n",
    "data.drop([2807, 2808, 2809, 2810, 2811, 2812], axis=1, inplace=True)\n",
    "\n",
    "# Sort by runID and then by lumiID\n",
    "data = data.sort_values([\"run\", \"lumi\"], ascending=[True,True])\n",
    "\n",
    "# Reset index\n",
    "data = data.reset_index(drop=True)  "
   ]
  },
  {
   "cell_type": "code",
   "execution_count": null,
   "metadata": {
    "collapsed": false
   },
   "outputs": [],
   "source": [
    "# Apply labels\n",
    "output_json = json.load(open(label_file))\n",
    "\n",
    "def json_checker(json_file, orig_runid, orig_lumid):\n",
    "    try:\n",
    "        for i in json_file[str(int(orig_runid))]:\n",
    "            if orig_lumid >= i[0] and orig_lumid <= i[1]:\n",
    "                return 0\n",
    "    except KeyError:\n",
    "        pass\n",
    "    return 1\n",
    "\n",
    "def add_flags(sample):\n",
    "    return json_checker(output_json, sample[\"run\"], sample[\"lumi\"])\n",
    "\n",
    "data[\"label\"] = data.apply(add_flags, axis=1)"
   ]
  },
  {
   "cell_type": "code",
   "execution_count": null,
   "metadata": {
    "collapsed": false
   },
   "outputs": [],
   "source": [
    "print(\"Number of anomalies: \", len(data[data[\"label\"] == 1]))\n",
    "print(\"Number of inliers: \", len(data[data[\"label\"] == 0]))"
   ]
  },
  {
   "cell_type": "markdown",
   "metadata": {},
   "source": [
    "## Preprocess the data"
   ]
  },
  {
   "cell_type": "code",
   "execution_count": null,
   "metadata": {
    "collapsed": true
   },
   "outputs": [],
   "source": [
    "from sklearn.model_selection import train_test_split\n",
    "from sklearn.preprocessing import StandardScaler"
   ]
  },
  {
   "cell_type": "code",
   "execution_count": null,
   "metadata": {
    "collapsed": false
   },
   "outputs": [],
   "source": [
    "# Normalize the data\n",
    "\n",
    "# Before\n",
    "data[0].plot.hist(bins=50, logy=True);\n",
    "\n",
    "data.iloc[:, 0:2806] = StandardScaler().fit_transform(data.iloc[:, 0:2806].values)\n",
    "\n",
    "# After\n",
    "data[0].plot.hist(bins=50, logy=True);"
   ]
  },
  {
   "cell_type": "code",
   "execution_count": null,
   "metadata": {
    "collapsed": false
   },
   "outputs": [],
   "source": [
    "# Split the data\n",
    "\n",
    "# This will work in scikit v19\n",
    "# X_train, X_test, y_train, y_test = train_test_split(data.iloc[:, 0:2806], data[\"label\"], shuffle=False)\n",
    "\n",
    "# This will work in scikit v<19\n",
    "\n",
    "split = round(0.8*len(data))\n",
    "\n",
    "train = data.iloc[:split]\n",
    "X_train = train.iloc[:, 0:2806]\n",
    "y_train = train[\"label\"]\n",
    "\n",
    "test = data.iloc[split:]\n",
    "X_test = test.iloc[:, 0:2806]\n",
    "y_test = test[\"label\"]\n",
    "\n",
    "print(\"Number of inliers in test set: %s\" % sum((y_test == 0).values))\n",
    "print(\"Number of anomalies in the test set: %s\" % sum((y_test == 1).values))"
   ]
  },
  {
   "cell_type": "markdown",
   "metadata": {
    "collapsed": true
   },
   "source": [
    "# Training the autoencoder"
   ]
  },
  {
   "cell_type": "code",
   "execution_count": null,
   "metadata": {
    "collapsed": false
   },
   "outputs": [],
   "source": [
    "import keras\n",
    "from keras.callbacks import ModelCheckpoint, EarlyStopping\n",
    "from keras.layers import Input, Dense\n",
    "from keras.layers.advanced_activations import PReLU\n",
    "from keras.models import Model, load_model"
   ]
  },
  {
   "cell_type": "code",
   "execution_count": null,
   "metadata": {
    "collapsed": true
   },
   "outputs": [],
   "source": [
    "# Train only on good\n",
    "\n",
    "X_train = X_train[y_train == 0]\n",
    "X_train = X_train.values\n",
    "X_test = X_test.values"
   ]
  },
  {
   "cell_type": "code",
   "execution_count": null,
   "metadata": {
    "collapsed": true
   },
   "outputs": [],
   "source": [
    "input_dim = X_train.shape[1]"
   ]
  },
  {
   "cell_type": "code",
   "execution_count": null,
   "metadata": {
    "collapsed": false
   },
   "outputs": [],
   "source": [
    "# Define the model\n",
    "\n",
    "input_layer = Input(shape=(input_dim, ))\n",
    "prellll = PReLU(alpha_initializer='zeros', alpha_regularizer=None, alpha_constraint=None, shared_axes=None)\n",
    "encoded = Dense(2000, kernel_regularizer=keras.regularizers.l1(10e-5))(input_layer)\n",
    "encoded = prellll(encoded)\n",
    "\n",
    "prellll = PReLU(alpha_initializer='zeros', alpha_regularizer=None, alpha_constraint=None, shared_axes=None)\n",
    "encoded = Dense(1000, kernel_regularizer=keras.regularizers.l1(10e-5))(encoded)\n",
    "encoded = prellll(encoded)\n",
    "\n",
    "prellll = PReLU(alpha_initializer='zeros', alpha_regularizer=None, alpha_constraint=None, shared_axes=None)\n",
    "encoded = Dense(500, kernel_regularizer=keras.regularizers.l1(10e-5))(encoded)\n",
    "encoded = prellll(encoded)\n",
    "\n",
    "prellll = PReLU(alpha_initializer='zeros', alpha_regularizer=None, alpha_constraint=None, shared_axes=None)\n",
    "encoded = Dense(1000, kernel_regularizer=keras.regularizers.l1(10e-5))(encoded)\n",
    "encoded = prellll(encoded)\n",
    "\n",
    "prellll = PReLU(alpha_initializer='zeros', alpha_regularizer=None, alpha_constraint=None, shared_axes=None)\n",
    "encoded = Dense(2000, kernel_regularizer=keras.regularizers.l1(10e-5))(encoded)\n",
    "encoded = prellll(encoded)\n",
    "\n",
    "prellll = PReLU(alpha_initializer='zeros', alpha_regularizer=None, alpha_constraint=None, shared_axes=None)\n",
    "decoder = Dense(input_dim)(encoded)\n",
    "decoder = prellll(decoder)\n",
    "autoencoder = Model(inputs=input_layer, outputs=decoder)\n",
    "\n",
    "autoencoder.summary()"
   ]
  },
  {
   "cell_type": "code",
   "execution_count": null,
   "metadata": {
    "collapsed": false
   },
   "outputs": [],
   "source": [
    "adamm = keras.optimizers.Adam(lr=0.0001, beta_1=0.9, beta_2=0.999, epsilon=1e-08, decay=0.0)\n",
    "\n",
    "early_stopper = EarlyStopping(monitor=\"val_loss\",\n",
    "                              patience=32,\n",
    "                              verbose=True,\n",
    "                              mode=\"auto\")\n",
    "\n",
    "autoencoder.compile(optimizer=adamm, loss='mean_squared_error')\n",
    "\n",
    "checkpoint_callback = ModelCheckpoint((\"%s%s.h5\" % (model_directory, model_name)),\n",
    "                                      monitor=\"val_loss\",\n",
    "                                      verbose=False,\n",
    "                                      save_best_only=True,\n",
    "                                      mode=\"min\")\n",
    "\n",
    "history = autoencoder.fit(X_train,\n",
    "                          X_train,\n",
    "                          epochs=8192,\n",
    "                          batch_size=256,\n",
    "                          shuffle=True,\n",
    "                          validation_split=0.25,\n",
    "                          verbose=2,\n",
    "                          callbacks=[early_stopper, checkpoint_callback]).history"
   ]
  },
  {
   "cell_type": "code",
   "execution_count": 23,
   "metadata": {
    "collapsed": false
   },
   "outputs": [
    {
     "data": {
      "image/png": "[encoded data removed]",
      "text/plain": [
       "<matplotlib.figure.Figure at 0x7f83143bca58>"
      ]
     },
     "metadata": {},
     "output_type": "display_data"
    }
   ],
   "source": [
    "def plot_loss(data, title):\n",
    "    \"\"\"Plots the training and validation loss\"\"\"\n",
    "    plt.figure()\n",
    "    plt.xlabel(\"Epoch\")\n",
    "    plt.ylabel(\"Loss\")\n",
    "    plt.title(title)\n",
    "    plt.plot(data[\"loss\"], linestyle=line_styles[0], color=color_palette[\"Indigo\"][900], linewidth=3)\n",
    "    plt.plot(data[\"val_loss\"], linestyle=line_styles[2], color=color_palette[\"Teal\"][300], linewidth=3)\n",
    "    plt.legend([\"Train\", \"Validation\"], loc=\"upper right\", frameon=False)\n",
    "    plt.yscale(\"log\")\n",
    "    plt.show();\n",
    "\n",
    "plot_loss(history, \"Original model loss\")"
   ]
  },
  {
   "cell_type": "code",
   "execution_count": 24,
   "metadata": {
    "collapsed": false
   },
   "outputs": [],
   "source": [
    "# Reload saved model\n",
    "\n",
    "autoencoder = load_model(\"%s%s.h5\" % (model_directory, model_name))"
   ]
  },
  {
   "cell_type": "code",
   "execution_count": 25,
   "metadata": {
    "collapsed": false
   },
   "outputs": [],
   "source": [
    "# Run predictions\n",
    "\n",
    "predictions = autoencoder.predict(X_test)"
   ]
  },
  {
   "cell_type": "code",
   "execution_count": 26,
   "metadata": {
    "collapsed": true
   },
   "outputs": [],
   "source": [
    "legend = [{\"name\": 'pf_jets', \"start\": 0, \"end\": 777, \"color\": color_palette[\"Indigo\"][100]},\n",
    "          {\"name\": 'cal_jet_mets', \"start\": 778, \"end\": 946, \"color\": color_palette[\"Indigo\"][300]},\n",
    "          {\"name\": 'pho', \"start\": 947, \"end\": 1283, \"color\": color_palette[\"Indigo\"][500]},\n",
    "          {\"name\": 'muons', \"start\": 1284, \"end\": 1788, \"color\": color_palette[\"Indigo\"][700]},\n",
    "          {\"name\": 'pf_jets2', \"start\": 1789, \"end\": 1894, \"color\": color_palette[\"Indigo\"][900]},\n",
    "          {\"name\": 'pf_mets', \"start\": 1895, \"end\": 1923, \"color\": color_palette[\"Indigo\"][200]},\n",
    "          {\"name\": 'nvtx', \"start\": 1924, \"end\": 1925, \"color\": color_palette[\"Indigo\"][400]},\n",
    "          {\"name\": 'cal_jet_mets2', \"start\": 1925, \"end\": 2037, \"color\": color_palette[\"Indigo\"][600]},\n",
    "          {\"name\": 'sc', \"start\": 2038, \"end\": 2129, \"color\": color_palette[\"Indigo\"][800]},\n",
    "          {\"name\": 'cc', \"start\": 2130, \"end\": 2172, \"color\": color_palette[\"Teal\"][100]},\n",
    "          {\"name\": 'pho2', \"start\": 2173, \"end\": 2369, \"color\": color_palette[\"Teal\"][300]},\n",
    "          {\"name\": 'muons2', \"start\": 2370, \"end\": 2476, \"color\": color_palette[\"Teal\"][500]},\n",
    "          {\"name\": 'ebs', \"start\": 2497, \"end\": 2707, \"color\": color_palette[\"Teal\"][700]},\n",
    "          {\"name\": 'hbhef', \"start\": 2708, \"end\": 2771, \"color\": color_palette[\"Teal\"][900]},\n",
    "          {\"name\": 'presh', \"start\": 2772, \"end\": 2810, \"color\": color_palette[\"Teal\"][400]}]"
   ]
  },
  {
   "cell_type": "code",
   "execution_count": 27,
   "metadata": {
    "collapsed": false
   },
   "outputs": [],
   "source": [
    "# Get error\n",
    "\n",
    "def get_error_df(X_test, predictions, mode=\"allmean\", n_highest = 100):\n",
    "    \n",
    "    if mode == \"allmean\":\n",
    "        return np.mean(np.power(X_test - predictions, 2), axis=1)\n",
    "    \n",
    "    elif mode == \"topn\":\n",
    "        temp = np.partition(-np.power(X_test - predictions, 2), n_highest)\n",
    "        result = -temp[:,:n_highest]\n",
    "        return np.mean(result, axis=1)\n",
    "    \n",
    "    elif mode == \"perobj\":\n",
    "        mses = []\n",
    "        for l in legend:\n",
    "            mse = np.mean(\n",
    "                np.power(X_test[:,l[\"start\"]:l[\"end\"]] - predictions[:,l[\"start\"]:l[\"end\"]], 2),\n",
    "                axis=1)\n",
    "            mses.append(mse)\n",
    "     \n",
    "        return np.maximum.reduce(mses)\n",
    "\n",
    "scores = get_error_df(X_test, predictions, mode=\"topn\")"
   ]
  },
  {
   "cell_type": "code",
   "execution_count": 28,
   "metadata": {
    "collapsed": false
   },
   "outputs": [
    {
     "data": {
      "image/png": "[encoded data removed]",
      "text/plain": [
       "<matplotlib.figure.Figure at 0x7f83143a4198>"
      ]
     },
     "metadata": {},
     "output_type": "display_data"
    }
   ],
   "source": [
    "#Make ROC_curve\n",
    "\n",
    "from sklearn.metrics import auc, roc_curve                            \n",
    "\n",
    "def get_roc_curve(label, score, legend_label):\n",
    "    \"\"\"Generates ROC Curves for a given array\"\"\"\n",
    "    fig, ax = plt.subplots()\n",
    "\n",
    "    fpr, tpr, thresholds = roc_curve(label, score)\n",
    "    roc_auc = round(auc(fpr, tpr), 3)\n",
    "    \n",
    "    plt.plot(fpr,\n",
    "             tpr,\n",
    "             linewidth=3,\n",
    "             color=color_palette[\"Indigo\"][400],\n",
    "             linestyle=line_styles[0],\n",
    "             label=(\"%s, AUC: %s\" % (legend_label, roc_auc)))\n",
    "\n",
    "    plt.legend(frameon=False)\n",
    "    plt.ylabel(\"Sensitivity (TPR)\")\n",
    "    plt.xlabel(\"Fall-out (TNR)\")\n",
    "    plt.ylim([0.5, 1])\n",
    "    plt.xlim([0, 0.5])\n",
    "    plt.show();\n",
    "    \n",
    "get_roc_curve(y_test.values, scores, \"Original autoencoder\")"
   ]
  },
  {
   "cell_type": "code",
   "execution_count": 34,
   "metadata": {
    "collapsed": false
   },
   "outputs": [
    {
     "data": {
      "image/png": "[encoded data removed]",
      "text/plain": [
       "<matplotlib.figure.Figure at 0x7f82a07356d8>"
      ]
     },
     "metadata": {},
     "output_type": "display_data"
    }
   ],
   "source": [
    "# Plot lumi vs error\n",
    "\n",
    "fig, ax = plt.subplots()\n",
    "\n",
    "plt.plot(np.array([i for i in range(len(scores))])[y_test == 0],\n",
    "         scores[y_test == 0],\n",
    "         color=color_palette[\"Teal\"][300],\n",
    "         linestyle='',\n",
    "         ms=2,\n",
    "         marker='o',\n",
    "         label=\"Outlier\")\n",
    "\n",
    "plt.plot(np.array([i for i in range(len(scores))])[y_test == 1],\n",
    "         scores[y_test == 1],\n",
    "         color=color_palette[\"Indigo\"][700],\n",
    "         linestyle='',\n",
    "         ms=2,\n",
    "         marker='o',\n",
    "         label=\"Inlier\")\n",
    "\n",
    "ax.set_yscale(\"log\")\n",
    "plt.ylabel(\"Score\")\n",
    "plt.xlabel(\"Lumisection #\")\n",
    "plt.show();"
   ]
  },
  {
   "cell_type": "code",
   "execution_count": 35,
   "metadata": {
    "collapsed": false
   },
   "outputs": [
    {
     "data": {
      "image/png": "[encoded data removed]",
      "text/plain": [
       "<matplotlib.figure.Figure at 0x7f82981037f0>"
      ]
     },
     "metadata": {},
     "output_type": "display_data"
    }
   ],
   "source": [
    "# Choose lumisection\n",
    "INDEX = 0   \n",
    "\n",
    "reconstruction = abs(X_test[INDEX] - predictions[INDEX])\n",
    "features = [i for i in range(reconstruction.shape[0])]\n",
    "\n",
    "for l in legend:\n",
    "    plt.plot(features[l[\"start\"]:l[\"end\"]],\n",
    "             reconstruction[l[\"start\"]:l[\"end\"]],\n",
    "             color=l[\"color\"])\n",
    "\n",
    "plt.ylabel(\"Absolute Error\")\n",
    "plt.xticks([l[\"start\"] for l in legend], [l[\"name\"] for l in legend], rotation='vertical')\n",
    "plt.show();"
   ]
  },
  {
   "cell_type": "code",
   "execution_count": null,
   "metadata": {
    "collapsed": true
   },
   "outputs": [],
   "source": []
  }
 ],
 "metadata": {
  "kernelspec": {
   "display_name": "Python 3",
   "language": "python",
   "name": "python3"
  },
  "language_info": {
   "codemirror_mode": {
    "name": "ipython",
    "version": 3
   },
   "file_extension": ".py",
   "mimetype": "text/x-python",
   "name": "python",
   "nbconvert_exporter": "python",
   "pygments_lexer": "ipython3",
   "version": "3.6.0"
  }
 },
 "nbformat": 4,
 "nbformat_minor": 2
}
