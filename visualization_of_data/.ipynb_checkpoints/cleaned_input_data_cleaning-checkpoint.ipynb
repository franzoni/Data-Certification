{
 "cells": [
  {
   "cell_type": "code",
   "execution_count": 1,
   "metadata": {
    "collapsed": false
   },
   "outputs": [
    {
     "name": "stdout",
     "output_type": "stream",
     "text": [
      "setGPU: Setting GPU to: 1\n"
     ]
    }
   ],
   "source": [
    "# Running on GPU?\n",
    "import setGPU\n",
    "\n",
    "import getpass\n",
    "import h5py\n",
    "import os\n",
    "import pickle\n",
    "import matplotlib.pyplot as plt\n",
    "\n",
    "from tqdm import tqdm"
   ]
  },
  {
   "cell_type": "code",
   "execution_count": 2,
   "metadata": {
    "collapsed": false
   },
   "outputs": [
    {
     "name": "stdout",
     "output_type": "stream",
     "text": [
      "········\n"
     ]
    },
    {
     "data": {
      "text/plain": [
       "0"
      ]
     },
     "execution_count": 2,
     "metadata": {},
     "output_type": "execute_result"
    }
   ],
   "source": [
    "# Get permission to access EOS (Insert your NICE password)\n",
    "os.system(\"echo %s | kinit\" % getpass.getpass())"
   ]
  },
  {
   "cell_type": "code",
   "execution_count": 3,
   "metadata": {
    "collapsed": false
   },
   "outputs": [
    {
     "name": "stderr",
     "output_type": "stream",
     "text": [
      "Using TensorFlow backend.\n"
     ]
    }
   ],
   "source": [
    "import json\n",
    "import numpy as np\n",
    "import pandas as pd\n",
    "\n",
    "import keras\n",
    "from keras.callbacks import ModelCheckpoint, EarlyStopping\n",
    "from keras.layers import Input, Dense, Lambda, BatchNormalization\n",
    "from keras.layers.advanced_activations import PReLU\n",
    "from keras.activations import sigmoid, linear, relu\n",
    "from keras.models import Model, load_model\n",
    "from keras.regularizers import l1, l2, l1_l2\n",
    "\n",
    "from sklearn.model_selection import TimeSeriesSplit\n",
    "from sklearn.model_selection import StratifiedKFold\n",
    "from sklearn.utils import class_weight\n",
    "from sklearn.ensemble import RandomForestClassifier\n",
    "from sklearn.preprocessing import StandardScaler"
   ]
  },
  {
   "cell_type": "code",
   "execution_count": 4,
   "metadata": {
    "collapsed": true
   },
   "outputs": [],
   "source": [
    "PDs  = {1: 'BTagCSV',\n",
    "        2: 'BTagMu',\n",
    "        3: 'Charmonium',\n",
    "        4: 'DisplacedJet',\n",
    "        5: 'DoubleEG',\n",
    "        6: 'DoubleMuon',\n",
    "        7: 'DoubleMuonLowMass',\n",
    "        8: 'FSQJets',\n",
    "        9: 'HighMultiplicityEOF',\n",
    "        10: 'HTMHT',\n",
    "        11: 'JetHT',\n",
    "        12: 'MET',\n",
    "        13: 'MinimumBias',\n",
    "        14: 'MuonEG',\n",
    "        15: 'MuOnia',\n",
    "        16: 'NoBPTX',\n",
    "        17: 'SingleElectron',\n",
    "        18: 'SingleMuon',\n",
    "        19: 'SinglePhoton',\n",
    "        20: 'Tau',\n",
    "        21: 'ZeroBias'}\n",
    "\n",
    "# Select PD\n",
    "nPD = 11"
   ]
  },
  {
   "cell_type": "code",
   "execution_count": 5,
   "metadata": {
    "collapsed": true
   },
   "outputs": [],
   "source": [
    "data_directory = \"/eos/cms/store/user/fsiroky/consistentlumih5/\"\n",
    "label_file = \"/afs/cern.ch/user/t/tkrzyzek/Documents/Data-Certification/JetHT.json\"\n",
    "model_directory = \"/eos/user/t/tkrzyzek/autoencoder/data_cleaning/\"\n",
    "model_name = \"model\""
   ]
  },
  {
   "cell_type": "code",
   "execution_count": 6,
   "metadata": {
    "collapsed": true
   },
   "outputs": [],
   "source": [
    "def get_file_list(directory, pds, npd, typeof, extension):\n",
    "    files = []\n",
    "    parts = [\"C\", \"D\", \"E\", \"F\", \"G\", \"H\"]\n",
    "    for p in parts:\n",
    "        files.append(\"%s%s_%s_%s%s\" % (directory, pds[npd], p, typeof, extension))\n",
    "    return files\n",
    "\n",
    "files = get_file_list(data_directory, PDs, nPD, \"background\", \".h5\")\n",
    "files = files + get_file_list(data_directory, PDs, nPD, \"signal\", \".h5\")"
   ]
  },
  {
   "cell_type": "code",
   "execution_count": 7,
   "metadata": {
    "collapsed": false
   },
   "outputs": [
    {
     "name": "stdout",
     "output_type": "stream",
     "text": [
      "Reading: JetHT_C_background\n",
      "Reading: JetHT_D_background\n",
      "Reading: JetHT_E_background\n",
      "Reading: JetHT_F_background\n",
      "Reading: JetHT_G_background\n",
      "Reading: JetHT_H_background\n",
      "Reading: JetHT_C_signal\n",
      "Reading: JetHT_D_signal\n",
      "Reading: JetHT_E_signal\n",
      "Reading: JetHT_F_signal\n",
      "Reading: JetHT_G_signal\n",
      "Reading: JetHT_H_signal\n"
     ]
    }
   ],
   "source": [
    "# Load good and bad jets\n",
    "def get_data(files):\n",
    "    readout = np.empty([0,2813])\n",
    "    \n",
    "    for file in files:\n",
    "        jet = file.split(\"/\")[-1][:-3]\n",
    "        print(\"Reading: %s\" % jet)\n",
    "        try:\n",
    "            h5file = h5py.File(file, \"r\")\n",
    "            readout = np.concatenate((readout, h5file[jet][:]), axis=0)\n",
    "        except OSError as error:\n",
    "            print(\"This Primary Dataset doesn't have %s. %s\" % (jet, error))\n",
    "            continue\n",
    "\n",
    "    return readout\n",
    "\n",
    "data = pd.DataFrame(get_data(files))"
   ]
  },
  {
   "cell_type": "code",
   "execution_count": null,
   "metadata": {
    "collapsed": false
   },
   "outputs": [],
   "source": [
    "data[\"run\"] = data[2807].astype(int)\n",
    "data[\"lumi\"] = data[2808].astype(int)\n",
    "data[\"inst_lumi\"] = data[2809].astype(float)\n",
    "\n",
    "# Drop unnecessary meta data\n",
    "data.drop([2807, 2808, 2809, 2810, 2811, 2812], axis=1, inplace=True)\n",
    "\n",
    "# Sort by runID and then by lumiID\n",
    "data = data.sort_values([\"run\", \"lumi\"], ascending=[True,True])\n",
    "\n",
    "# Reset index\n",
    "data = data.reset_index(drop=True)  \n",
    "\n",
    "runIDs  = data[\"run\"].astype(int)\n",
    "lumiIDs = data[\"lumi\"].astype(int)\n",
    "luminosity = data[\"inst_lumi\"].astype(float)"
   ]
  },
  {
   "cell_type": "code",
   "execution_count": null,
   "metadata": {
    "collapsed": true
   },
   "outputs": [],
   "source": [
    "# Apply labels\n",
    "output_json = json.load(open(label_file))\n",
    "\n",
    "def json_checker(json_file, orig_runid, orig_lumid):\n",
    "    try:\n",
    "        for i in json_file[str(int(orig_runid))]:\n",
    "            if orig_lumid >= i[0] and orig_lumid <= i[1]:\n",
    "                return 0\n",
    "    except KeyError:\n",
    "        pass\n",
    "    return 1\n",
    "\n",
    "def add_flags(sample):\n",
    "    return json_checker(output_json, sample[\"run\"], sample[\"lumi\"])\n",
    "\n",
    "data[\"label\"] = data.apply(add_flags, axis=1)"
   ]
  },
  {
   "cell_type": "code",
   "execution_count": 10,
   "metadata": {
    "collapsed": false,
    "scrolled": false
   },
   "outputs": [],
   "source": [
    "treshold = 4e7\n",
    "plt.rcParams['figure.figsize'] = [40, 20]\n",
    "plt.hist(data.iloc[:, :2807].values.reshape(-1), bins=1000)\n",
    "plt.xscale('log')\n",
    "plt.yscale('log')\n",
    "plt.axvline(treshold, color='r')\n",
    "plt.ylabel(\"Feature value\")\n",
    "plt.xlabel(\"Number of feature values\")\n",
    "plt.title(\"Histogram of all feature values of all lumisections\")\n",
    "plt.show()"
   ]
  },
  {
   "cell_type": "code",
   "execution_count": 11,
   "metadata": {
    "collapsed": false,
    "scrolled": false
   },
   "outputs": [],
   "source": [
    "data['keep'] = data.apply(lambda row: all([x < treshold for x in row]), axis = 1)"
   ]
  },
  {
   "cell_type": "code",
   "execution_count": 12,
   "metadata": {
    "collapsed": false
   },
   "outputs": [],
   "source": [
    "data[data['keep'] == False].shape"
   ]
  },
  {
   "cell_type": "code",
   "execution_count": 13,
   "metadata": {
    "collapsed": true
   },
   "outputs": [],
   "source": [
    "data_orig = data"
   ]
  },
  {
   "cell_type": "code",
   "execution_count": 48,
   "metadata": {
    "collapsed": false
   },
   "outputs": [
    {
     "name": "stdout",
     "output_type": "stream",
     "text": [
      "Before: (16368, 2811)\n",
      "After: (16368, 2811)\n"
     ]
    }
   ],
   "source": [
    "# Split the data\n",
    "SPLIT_FACTOR = 0.1\n",
    "\n",
    "split = round(SPLIT_FACTOR*len(data))\n",
    "\n",
    "runIDs = runIDs[split:]\n",
    "lumiIDs = lumiIDs[split:]\n",
    "luminosity = luminosity[split:]\n",
    "\n",
    "train = data.iloc[:split]\n",
    "print(\"Before:\", train.shape)\n",
    "# train = train[train['keep'] == True]\n",
    "print(\"After:\", train.shape)\n",
    "X_train = train.iloc[:, 0:2806]\n",
    "y_train = train[\"label\"]\n",
    "\n",
    "test = data.iloc[split:]\n",
    "X_test = test.iloc[:, 0:2806]\n",
    "y_test = test[\"label\"]\n",
    "\n",
    "normalizer = StandardScaler()\n",
    "X_train_norm = normalizer.fit_transform(X_train)\n",
    "X_test_norm = normalizer.transform(X_test)\n",
    "\n",
    "# Train only on good\n",
    "X_train = X_train[y_train == 0]\n",
    "X_train_norm = X_train_norm[y_train == 0]\n",
    "\n",
    "input_dim = X_train.shape[1]"
   ]
  },
  {
   "cell_type": "code",
   "execution_count": 49,
   "metadata": {
    "collapsed": false
   },
   "outputs": [
    {
     "name": "stdout",
     "output_type": "stream",
     "text": [
      "_________________________________________________________________\n",
      "Layer (type)                 Output Shape              Param #   \n",
      "=================================================================\n",
      "input_5 (InputLayer)         (None, 2806)              0         \n",
      "_________________________________________________________________\n",
      "batch_normalization_7 (Batch (None, 2806)              11224     \n",
      "_________________________________________________________________\n",
      "dense_25 (Dense)             (None, 2000)              5614000   \n",
      "_________________________________________________________________\n",
      "p_re_lu_23 (PReLU)           (None, 2000)              2000      \n",
      "_________________________________________________________________\n",
      "batch_normalization_8 (Batch (None, 2000)              8000      \n",
      "_________________________________________________________________\n",
      "dense_26 (Dense)             (None, 1000)              2001000   \n",
      "_________________________________________________________________\n",
      "p_re_lu_24 (PReLU)           (None, 1000)              1000      \n",
      "_________________________________________________________________\n",
      "batch_normalization_9 (Batch (None, 1000)              4000      \n",
      "_________________________________________________________________\n",
      "dense_27 (Dense)             (None, 500)               500500    \n",
      "_________________________________________________________________\n",
      "p_re_lu_25 (PReLU)           (None, 500)               500       \n",
      "_________________________________________________________________\n",
      "batch_normalization_10 (Batc (None, 500)               2000      \n",
      "_________________________________________________________________\n",
      "dense_28 (Dense)             (None, 1000)              501000    \n",
      "_________________________________________________________________\n",
      "p_re_lu_26 (PReLU)           (None, 1000)              1000      \n",
      "_________________________________________________________________\n",
      "batch_normalization_11 (Batc (None, 1000)              4000      \n",
      "_________________________________________________________________\n",
      "dense_29 (Dense)             (None, 2000)              2002000   \n",
      "_________________________________________________________________\n",
      "p_re_lu_27 (PReLU)           (None, 2000)              2000      \n",
      "_________________________________________________________________\n",
      "batch_normalization_12 (Batc (None, 2000)              8000      \n",
      "_________________________________________________________________\n",
      "dense_30 (Dense)             (None, 2806)              5614806   \n",
      "=================================================================\n",
      "Total params: 16,277,030\n",
      "Trainable params: 16,258,418\n",
      "Non-trainable params: 18,612\n",
      "_________________________________________________________________\n"
     ]
    }
   ],
   "source": [
    "input_layer = Input(shape=(input_dim, ))\n",
    "\n",
    "x = Dense(2000, kernel_regularizer=l1_l2(10e-5))(input_layer)\n",
    "x = PReLU()(x)\n",
    "\n",
    "x = Dense(1000, kernel_regularizer=l1_l2(10e-5))(x)\n",
    "x = PReLU()(x)\n",
    "\n",
    "x = Dense(500, kernel_regularizer=l1_l2(10e-5))(x)\n",
    "x = PReLU()(x)\n",
    "\n",
    "x = Dense(1000, kernel_regularizer=l1_l2(10e-5))(x)\n",
    "x = PReLU()(x)\n",
    "\n",
    "x = Dense(2000, kernel_regularizer=l1_l2(10e-5))(x)\n",
    "x = PReLU()(x)\n",
    "\n",
    "x = Dense(input_dim)(x)\n",
    "x = linear(x)\n",
    "\n",
    "autoencoder = Model(inputs=input_layer, outputs=x)\n",
    "\n",
    "autoencoder.summary()"
   ]
  },
  {
   "cell_type": "code",
   "execution_count": 50,
   "metadata": {
    "collapsed": true
   },
   "outputs": [],
   "source": [
    "adamm = keras.optimizers.Adam(lr=0.0001, beta_1=0.9, beta_2=0.999, epsilon=1e-08, decay=0.0)\n",
    "\n",
    "early_stopper = EarlyStopping(monitor=\"val_loss\",\n",
    "                              patience=32,\n",
    "                              verbose=True,\n",
    "                              mode=\"auto\")\n",
    "\n",
    "autoencoder.compile(optimizer=adamm, loss='mean_squared_error')\n",
    "\n",
    "checkpoint_callback = ModelCheckpoint((\"%s%s.h5\" % (model_directory, model_name)),\n",
    "                                      monitor=\"val_loss\",\n",
    "                                      verbose=False,\n",
    "                                      save_best_only=True,\n",
    "                                      mode=\"min\")"
   ]
  },
  {
   "cell_type": "code",
   "execution_count": 54,
   "metadata": {
    "collapsed": false
   },
   "outputs": [],
   "source": [
    "X_train = X_train.values\n",
    "X_test = X_test.values"
   ]
  },
  {
   "cell_type": "code",
   "execution_count": 59,
   "metadata": {
    "collapsed": false,
    "scrolled": true
   },
   "outputs": [
    {
     "name": "stdout",
     "output_type": "stream",
     "text": [
      "Train on 11859 samples, validate on 3954 samples\n",
      "Epoch 1/64\n",
      "10s - loss: 704.7017 - val_loss: 59721.2649\n",
      "Epoch 2/64\n",
      "6s - loss: 594.2587 - val_loss: 52158.9886\n",
      "Epoch 3/64\n",
      "6s - loss: 521.2380 - val_loss: 45286.6411\n",
      "Epoch 4/64\n",
      "5s - loss: 466.8273 - val_loss: 41675.6493\n",
      "Epoch 5/64\n",
      "6s - loss: 423.1701 - val_loss: 39440.9189\n",
      "Epoch 6/64\n",
      "8s - loss: 385.7990 - val_loss: 36346.9417\n",
      "Epoch 7/64\n",
      "5s - loss: 352.8859 - val_loss: 34129.3196\n",
      "Epoch 8/64\n",
      "8s - loss: 327.2662 - val_loss: 31885.6986\n",
      "Epoch 9/64\n",
      "11s - loss: 306.2689 - val_loss: 28887.8798\n",
      "Epoch 10/64\n",
      "9s - loss: 285.2195 - val_loss: 26234.7954\n",
      "Epoch 11/64\n",
      "11s - loss: 269.4957 - val_loss: 25431.2862\n",
      "Epoch 12/64\n",
      "8s - loss: 253.7568 - val_loss: 23842.9550\n",
      "Epoch 13/64\n",
      "14s - loss: 241.3114 - val_loss: 21384.5682\n",
      "Epoch 14/64\n",
      "10s - loss: 230.6210 - val_loss: 19526.3930\n",
      "Epoch 15/64\n",
      "8s - loss: 221.9529 - val_loss: 18273.8997\n",
      "Epoch 16/64\n",
      "15s - loss: 213.3594 - val_loss: 15729.4366\n",
      "Epoch 17/64\n",
      "7s - loss: 206.5109 - val_loss: 13959.8191\n",
      "Epoch 18/64\n",
      "12s - loss: 199.5957 - val_loss: 13129.7517\n",
      "Epoch 19/64\n",
      "2s - loss: 193.1769 - val_loss: 13476.3633\n",
      "Epoch 20/64\n",
      "12s - loss: 189.1218 - val_loss: 12276.1070\n",
      "Epoch 21/64\n",
      "9s - loss: 184.2656 - val_loss: 11738.1017\n",
      "Epoch 22/64\n",
      "12s - loss: 180.1684 - val_loss: 11467.5452\n",
      "Epoch 23/64\n",
      "13s - loss: 176.9947 - val_loss: 11255.1256\n",
      "Epoch 24/64\n",
      "13s - loss: 172.4508 - val_loss: 11045.9418\n",
      "Epoch 25/64\n",
      "2s - loss: 170.2381 - val_loss: 11345.7208\n",
      "Epoch 26/64\n",
      "14s - loss: 167.5876 - val_loss: 10743.1819\n",
      "Epoch 27/64\n",
      "15s - loss: 165.1390 - val_loss: 10627.4365\n",
      "Epoch 28/64\n",
      "15s - loss: 163.3629 - val_loss: 10157.5039\n",
      "Epoch 29/64\n",
      "13s - loss: 160.8062 - val_loss: 9828.4695\n",
      "Epoch 30/64\n",
      "10s - loss: 158.6824 - val_loss: 9793.9364\n",
      "Epoch 31/64\n",
      "12s - loss: 157.5049 - val_loss: 9303.1838\n",
      "Epoch 32/64\n",
      "3s - loss: 155.6396 - val_loss: 8735.2564\n",
      "Epoch 33/64\n",
      "14s - loss: 154.2699 - val_loss: 8642.8006\n",
      "Epoch 34/64\n",
      "13s - loss: 153.0103 - val_loss: 8174.1965\n",
      "Epoch 35/64\n",
      "14s - loss: 151.1211 - val_loss: 8156.7039\n",
      "Epoch 36/64\n",
      "15s - loss: 149.8916 - val_loss: 7779.7767\n",
      "Epoch 37/64\n",
      "16s - loss: 149.0185 - val_loss: 7567.3964\n",
      "Epoch 38/64\n",
      "2s - loss: 147.8892 - val_loss: 7918.4420\n",
      "Epoch 39/64\n",
      "1s - loss: 146.6943 - val_loss: 7976.3260\n",
      "Epoch 40/64\n",
      "2s - loss: 145.8721 - val_loss: 7919.7574\n",
      "Epoch 41/64\n",
      "15s - loss: 145.1504 - val_loss: 7515.2154\n",
      "Epoch 42/64\n",
      "17s - loss: 144.0769 - val_loss: 7444.3261\n",
      "Epoch 43/64\n",
      "14s - loss: 143.4615 - val_loss: 7062.2788\n",
      "Epoch 44/64\n",
      "14s - loss: 142.4952 - val_loss: 6967.7996\n",
      "Epoch 45/64\n",
      "1s - loss: 141.7117 - val_loss: 7014.7020\n",
      "Epoch 46/64\n",
      "15s - loss: 140.5727 - val_loss: 6885.3134\n",
      "Epoch 47/64\n",
      "2s - loss: 140.0626 - val_loss: 6985.7975\n",
      "Epoch 48/64\n",
      "2s - loss: 139.2049 - val_loss: 7285.9392\n",
      "Epoch 49/64\n",
      "2s - loss: 138.6535 - val_loss: 6936.5907\n",
      "Epoch 50/64\n",
      "1s - loss: 137.8135 - val_loss: 6971.4156\n",
      "Epoch 51/64\n",
      "2s - loss: 137.3038 - val_loss: 7140.6331\n",
      "Epoch 52/64\n",
      "2s - loss: 136.5153 - val_loss: 7043.9013\n",
      "Epoch 53/64\n",
      "2s - loss: 135.8902 - val_loss: 6899.2676\n",
      "Epoch 54/64\n",
      "2s - loss: 135.2198 - val_loss: 6985.6506\n",
      "Epoch 55/64\n",
      "19s - loss: 134.5938 - val_loss: 6865.5031\n",
      "Epoch 56/64\n",
      "19s - loss: 134.1138 - val_loss: 6631.4942\n",
      "Epoch 57/64\n",
      "2s - loss: 133.2701 - val_loss: 6802.4553\n",
      "Epoch 58/64\n",
      "2s - loss: 132.7761 - val_loss: 6688.2613\n",
      "Epoch 59/64\n",
      "18s - loss: 132.3226 - val_loss: 6622.7002\n",
      "Epoch 60/64\n",
      "1s - loss: 131.7392 - val_loss: 6811.9894\n",
      "Epoch 61/64\n",
      "2s - loss: 131.0439 - val_loss: 7101.2982\n",
      "Epoch 62/64\n",
      "2s - loss: 130.4835 - val_loss: 6824.4609\n",
      "Epoch 63/64\n",
      "3s - loss: 129.8627 - val_loss: 6504.1105\n",
      "Epoch 64/64\n",
      "3s - loss: 129.3341 - val_loss: 6462.4026\n"
     ]
    },
    {
     "data": {
      "text/plain": [
       "<keras.callbacks.History at 0x7f9c4d59cac8>"
      ]
     },
     "execution_count": 59,
     "metadata": {},
     "output_type": "execute_result"
    }
   ],
   "source": [
    "autoencoder.fit(X_train_norm,\n",
    "                X_train_norm,\n",
    "                epochs=64,\n",
    "                batch_size=256,\n",
    "                validation_split=0.25,\n",
    "                verbose=2,\n",
    "                callbacks=[early_stopper, checkpoint_callback])"
   ]
  },
  {
   "cell_type": "code",
   "execution_count": 60,
   "metadata": {
    "collapsed": false
   },
   "outputs": [],
   "source": [
    "# Reload saved model\n",
    "autoencoder = load_model(\"%s%s.h5\" % (model_directory, model_name))"
   ]
  },
  {
   "cell_type": "code",
   "execution_count": 61,
   "metadata": {
    "collapsed": false
   },
   "outputs": [],
   "source": [
    "# Run predictions\n",
    "predictions = autoencoder.predict(X_test_norm)\n",
    "\n",
    "def get_error_df(X_test, predictions, mode=\"allmean\", n_highest = 100):\n",
    "    \n",
    "    if mode == \"allmean\":\n",
    "        return np.mean(np.power(X_test - predictions, 2), axis=1)\n",
    "    \n",
    "    elif mode == \"topn\":\n",
    "        temp = np.partition(-np.power(X_test - predictions, 2), n_highest)\n",
    "        result = -temp[:,:n_highest]\n",
    "        return np.mean(result, axis=1)\n",
    "    \n",
    "    elif mode == \"perobj\":\n",
    "        mses = []\n",
    "        for l in legend:\n",
    "            mse = np.mean(\n",
    "                np.power(X_test[:,l[\"start\"]:l[\"end\"]] - predictions[:,l[\"start\"]:l[\"end\"]], 2),\n",
    "                axis=1)\n",
    "            mses.append(mse)\n",
    "     \n",
    "        return np.maximum.reduce(mses)\n",
    "    \n",
    "ae_error = get_error_df(X_test_norm, predictions, mode=\"topn\")"
   ]
  },
  {
   "cell_type": "code",
   "execution_count": 63,
   "metadata": {
    "collapsed": false
   },
   "outputs": [
    {
     "data": {
      "image/png": "[encoded data removed]",
      "text/plain": [
       "<matplotlib.figure.Figure at 0x7f9c4d48df98>"
      ]
     },
     "metadata": {},
     "output_type": "display_data"
    }
   ],
   "source": [
    "# Make ROC_curve\n",
    "\n",
    "from sklearn.metrics import auc, roc_curve, roc_auc_score                          \n",
    "\n",
    "def get_roc_curve(label, scores, names):\n",
    "    \"\"\"Generates ROC Curves for a given array\"\"\"\n",
    "    fig, ax = plt.subplots()\n",
    "    \n",
    "    for i in range(len(scores)):\n",
    "        fpr, tpr, thresholds = roc_curve(label, scores[i])\n",
    "        roc_auc = auc(fpr, tpr)\n",
    "\n",
    "        plt.plot(fpr,\n",
    "                 tpr,\n",
    "                 linewidth=3,\n",
    "                 #linestyle=line_styles[0],\n",
    "                 label=(\"%s AUC: %s\" % (names[i], roc_auc)))\n",
    "        \n",
    "    plt.legend(frameon=False)\n",
    "    plt.ylabel(\"Sensitivity (TPR)\")\n",
    "    plt.xlabel(\"Fall-out (TNR)\")\n",
    "    plt.ylim([0, 1])\n",
    "    plt.xlim([0, 1])\n",
    "    plt.title('ROC curves for AE with batchnorm')\n",
    "    plt.show();\n",
    "    \n",
    "get_roc_curve(y_test, [ae_error], ['name'])"
   ]
  },
  {
   "cell_type": "code",
   "execution_count": 64,
   "metadata": {
    "collapsed": true
   },
   "outputs": [],
   "source": [
    "# model_directory = \"/afs/cern.ch/user/t/tkrzyzek/Documents/Data-Certification/temp/\""
   ]
  },
  {
   "cell_type": "code",
   "execution_count": 65,
   "metadata": {
    "collapsed": false
   },
   "outputs": [],
   "source": [
    "pickle.dump(ae_error, open(model_directory + \"ae_error.p\", \"wb\"))"
   ]
  },
  {
   "cell_type": "code",
   "execution_count": null,
   "metadata": {
    "collapsed": true
   },
   "outputs": [],
   "source": []
  }
 ],
 "metadata": {
  "kernelspec": {
   "display_name": "Python 3",
   "language": "python",
   "name": "python3"
  },
  "language_info": {
   "codemirror_mode": {
    "name": "ipython",
    "version": 3
   },
   "file_extension": ".py",
   "mimetype": "text/x-python",
   "name": "python",
   "nbconvert_exporter": "python",
   "pygments_lexer": "ipython3",
   "version": "3.6.0"
  }
 },
 "nbformat": 4,
 "nbformat_minor": 2
}
