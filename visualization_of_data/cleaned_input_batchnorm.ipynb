{
 "cells": [
  {
   "cell_type": "code",
   "execution_count": 1,
   "metadata": {
    "collapsed": false
   },
   "outputs": [
    {
     "name": "stdout",
     "output_type": "stream",
     "text": [
      "setGPU: Setting GPU to: 0\n"
     ]
    }
   ],
   "source": [
    "# Running on GPU?\n",
    "import setGPU\n",
    "\n",
    "import getpass\n",
    "import h5py\n",
    "import os\n",
    "import pickle\n",
    "import matplotlib.pyplot as plt\n",
    "\n",
    "from tqdm import tqdm"
   ]
  },
  {
   "cell_type": "code",
   "execution_count": 2,
   "metadata": {
    "collapsed": false,
    "scrolled": true
   },
   "outputs": [
    {
     "ename": "KeyboardInterrupt",
     "evalue": "",
     "output_type": "error",
     "traceback": [
      "\u001b[0;31m---------------------------------------------------------------------------\u001b[0m",
      "\u001b[0;31mKeyboardInterrupt\u001b[0m                         Traceback (most recent call last)",
      "\u001b[0;32m/opt/anaconda3/lib/python3.6/site-packages/ipykernel/kernelbase.py\u001b[0m in \u001b[0;36m_input_request\u001b[0;34m(self, prompt, ident, parent, password)\u001b[0m\n\u001b[1;32m    718\u001b[0m             \u001b[0;32mtry\u001b[0m\u001b[0;34m:\u001b[0m\u001b[0;34m\u001b[0m\u001b[0m\n\u001b[0;32m--> 719\u001b[0;31m                 \u001b[0mident\u001b[0m\u001b[0;34m,\u001b[0m \u001b[0mreply\u001b[0m \u001b[0;34m=\u001b[0m \u001b[0mself\u001b[0m\u001b[0;34m.\u001b[0m\u001b[0msession\u001b[0m\u001b[0;34m.\u001b[0m\u001b[0mrecv\u001b[0m\u001b[0;34m(\u001b[0m\u001b[0mself\u001b[0m\u001b[0;34m.\u001b[0m\u001b[0mstdin_socket\u001b[0m\u001b[0;34m,\u001b[0m \u001b[0;36m0\u001b[0m\u001b[0;34m)\u001b[0m\u001b[0;34m\u001b[0m\u001b[0m\n\u001b[0m\u001b[1;32m    720\u001b[0m             \u001b[0;32mexcept\u001b[0m \u001b[0mException\u001b[0m\u001b[0;34m:\u001b[0m\u001b[0;34m\u001b[0m\u001b[0m\n",
      "\u001b[0;32m/opt/anaconda3/lib/python3.6/site-packages/jupyter_client/session.py\u001b[0m in \u001b[0;36mrecv\u001b[0;34m(self, socket, mode, content, copy)\u001b[0m\n\u001b[1;32m    738\u001b[0m         \u001b[0;32mtry\u001b[0m\u001b[0;34m:\u001b[0m\u001b[0;34m\u001b[0m\u001b[0m\n\u001b[0;32m--> 739\u001b[0;31m             \u001b[0mmsg_list\u001b[0m \u001b[0;34m=\u001b[0m \u001b[0msocket\u001b[0m\u001b[0;34m.\u001b[0m\u001b[0mrecv_multipart\u001b[0m\u001b[0;34m(\u001b[0m\u001b[0mmode\u001b[0m\u001b[0;34m,\u001b[0m \u001b[0mcopy\u001b[0m\u001b[0;34m=\u001b[0m\u001b[0mcopy\u001b[0m\u001b[0;34m)\u001b[0m\u001b[0;34m\u001b[0m\u001b[0m\n\u001b[0m\u001b[1;32m    740\u001b[0m         \u001b[0;32mexcept\u001b[0m \u001b[0mzmq\u001b[0m\u001b[0;34m.\u001b[0m\u001b[0mZMQError\u001b[0m \u001b[0;32mas\u001b[0m \u001b[0me\u001b[0m\u001b[0;34m:\u001b[0m\u001b[0;34m\u001b[0m\u001b[0m\n",
      "\u001b[0;32m/opt/anaconda3/lib/python3.6/site-packages/zmq/sugar/socket.py\u001b[0m in \u001b[0;36mrecv_multipart\u001b[0;34m(self, flags, copy, track)\u001b[0m\n\u001b[1;32m    394\u001b[0m         \"\"\"\n\u001b[0;32m--> 395\u001b[0;31m         \u001b[0mparts\u001b[0m \u001b[0;34m=\u001b[0m \u001b[0;34m[\u001b[0m\u001b[0mself\u001b[0m\u001b[0;34m.\u001b[0m\u001b[0mrecv\u001b[0m\u001b[0;34m(\u001b[0m\u001b[0mflags\u001b[0m\u001b[0;34m,\u001b[0m \u001b[0mcopy\u001b[0m\u001b[0;34m=\u001b[0m\u001b[0mcopy\u001b[0m\u001b[0;34m,\u001b[0m \u001b[0mtrack\u001b[0m\u001b[0;34m=\u001b[0m\u001b[0mtrack\u001b[0m\u001b[0;34m)\u001b[0m\u001b[0;34m]\u001b[0m\u001b[0;34m\u001b[0m\u001b[0m\n\u001b[0m\u001b[1;32m    396\u001b[0m         \u001b[0;31m# have first part already, only loop while more to receive\u001b[0m\u001b[0;34m\u001b[0m\u001b[0;34m\u001b[0m\u001b[0m\n",
      "\u001b[0;32mzmq/backend/cython/socket.pyx\u001b[0m in \u001b[0;36mzmq.backend.cython.socket.Socket.recv (zmq/backend/cython/socket.c:7683)\u001b[0;34m()\u001b[0m\n",
      "\u001b[0;32mzmq/backend/cython/socket.pyx\u001b[0m in \u001b[0;36mzmq.backend.cython.socket.Socket.recv (zmq/backend/cython/socket.c:7460)\u001b[0;34m()\u001b[0m\n",
      "\u001b[0;32mzmq/backend/cython/socket.pyx\u001b[0m in \u001b[0;36mzmq.backend.cython.socket._recv_copy (zmq/backend/cython/socket.c:2344)\u001b[0;34m()\u001b[0m\n",
      "\u001b[0;32m/opt/anaconda3/lib/python3.6/site-packages/zmq/backend/cython/checkrc.pxd\u001b[0m in \u001b[0;36mzmq.backend.cython.checkrc._check_rc (zmq/backend/cython/socket.c:9621)\u001b[0;34m()\u001b[0m\n",
      "\u001b[0;31mKeyboardInterrupt\u001b[0m: ",
      "\nDuring handling of the above exception, another exception occurred:\n",
      "\u001b[0;31mKeyboardInterrupt\u001b[0m                         Traceback (most recent call last)",
      "\u001b[0;32m<ipython-input-2-229fcbeab4d9>\u001b[0m in \u001b[0;36m<module>\u001b[0;34m()\u001b[0m\n\u001b[1;32m      1\u001b[0m \u001b[0;31m# Get permission to access EOS (Insert your NICE password)\u001b[0m\u001b[0;34m\u001b[0m\u001b[0;34m\u001b[0m\u001b[0m\n\u001b[0;32m----> 2\u001b[0;31m \u001b[0mos\u001b[0m\u001b[0;34m.\u001b[0m\u001b[0msystem\u001b[0m\u001b[0;34m(\u001b[0m\u001b[0;34m\"echo %s | kinit\"\u001b[0m \u001b[0;34m%\u001b[0m \u001b[0mgetpass\u001b[0m\u001b[0;34m.\u001b[0m\u001b[0mgetpass\u001b[0m\u001b[0;34m(\u001b[0m\u001b[0;34m)\u001b[0m\u001b[0;34m)\u001b[0m\u001b[0;34m\u001b[0m\u001b[0m\n\u001b[0m",
      "\u001b[0;32m/opt/anaconda3/lib/python3.6/site-packages/ipykernel/kernelbase.py\u001b[0m in \u001b[0;36mgetpass\u001b[0;34m(self, prompt, stream)\u001b[0m\n\u001b[1;32m    675\u001b[0m             \u001b[0mself\u001b[0m\u001b[0;34m.\u001b[0m\u001b[0m_parent_ident\u001b[0m\u001b[0;34m,\u001b[0m\u001b[0;34m\u001b[0m\u001b[0m\n\u001b[1;32m    676\u001b[0m             \u001b[0mself\u001b[0m\u001b[0;34m.\u001b[0m\u001b[0m_parent_header\u001b[0m\u001b[0;34m,\u001b[0m\u001b[0;34m\u001b[0m\u001b[0m\n\u001b[0;32m--> 677\u001b[0;31m             \u001b[0mpassword\u001b[0m\u001b[0;34m=\u001b[0m\u001b[0;32mTrue\u001b[0m\u001b[0;34m,\u001b[0m\u001b[0;34m\u001b[0m\u001b[0m\n\u001b[0m\u001b[1;32m    678\u001b[0m         )\n\u001b[1;32m    679\u001b[0m \u001b[0;34m\u001b[0m\u001b[0m\n",
      "\u001b[0;32m/opt/anaconda3/lib/python3.6/site-packages/ipykernel/kernelbase.py\u001b[0m in \u001b[0;36m_input_request\u001b[0;34m(self, prompt, ident, parent, password)\u001b[0m\n\u001b[1;32m    722\u001b[0m             \u001b[0;32mexcept\u001b[0m \u001b[0mKeyboardInterrupt\u001b[0m\u001b[0;34m:\u001b[0m\u001b[0;34m\u001b[0m\u001b[0m\n\u001b[1;32m    723\u001b[0m                 \u001b[0;31m# re-raise KeyboardInterrupt, to truncate traceback\u001b[0m\u001b[0;34m\u001b[0m\u001b[0;34m\u001b[0m\u001b[0m\n\u001b[0;32m--> 724\u001b[0;31m                 \u001b[0;32mraise\u001b[0m \u001b[0mKeyboardInterrupt\u001b[0m\u001b[0;34m\u001b[0m\u001b[0m\n\u001b[0m\u001b[1;32m    725\u001b[0m             \u001b[0;32melse\u001b[0m\u001b[0;34m:\u001b[0m\u001b[0;34m\u001b[0m\u001b[0m\n\u001b[1;32m    726\u001b[0m                 \u001b[0;32mbreak\u001b[0m\u001b[0;34m\u001b[0m\u001b[0m\n",
      "\u001b[0;31mKeyboardInterrupt\u001b[0m: "
     ]
    }
   ],
   "source": [
    "# Get permission to access EOS (Insert your NICE password)\n",
    "os.system(\"echo %s | kinit\" % getpass.getpass())"
   ]
  },
  {
   "cell_type": "code",
   "execution_count": null,
   "metadata": {
    "collapsed": false
   },
   "outputs": [],
   "source": [
    "import json\n",
    "import numpy as np\n",
    "import pandas as pd\n",
    "\n",
    "import keras\n",
    "from keras.callbacks import ModelCheckpoint, EarlyStopping\n",
    "from keras.layers import Input, Dense, Lambda, BatchNormalization\n",
    "from keras.layers.advanced_activations import PReLU\n",
    "from keras.activations import sigmoid, linear, relu\n",
    "from keras.models import Model, load_model\n",
    "from keras.regularizers import l1, l2, l1_l2\n",
    "\n",
    "from sklearn.model_selection import TimeSeriesSplit\n",
    "from sklearn.model_selection import StratifiedKFold\n",
    "from sklearn.utils import class_weight\n",
    "from sklearn.ensemble import RandomForestClassifier\n",
    "from sklearn.preprocessing import StandardScaler"
   ]
  },
  {
   "cell_type": "code",
   "execution_count": null,
   "metadata": {
    "collapsed": true
   },
   "outputs": [],
   "source": [
    "PDs  = {1: 'BTagCSV',\n",
    "        2: 'BTagMu',\n",
    "        3: 'Charmonium',\n",
    "        4: 'DisplacedJet',\n",
    "        5: 'DoubleEG',\n",
    "        6: 'DoubleMuon',\n",
    "        7: 'DoubleMuonLowMass',\n",
    "        8: 'FSQJets',\n",
    "        9: 'HighMultiplicityEOF',\n",
    "        10: 'HTMHT',\n",
    "        11: 'JetHT',\n",
    "        12: 'MET',\n",
    "        13: 'MinimumBias',\n",
    "        14: 'MuonEG',\n",
    "        15: 'MuOnia',\n",
    "        16: 'NoBPTX',\n",
    "        17: 'SingleElectron',\n",
    "        18: 'SingleMuon',\n",
    "        19: 'SinglePhoton',\n",
    "        20: 'Tau',\n",
    "        21: 'ZeroBias'}\n",
    "\n",
    "# Select PD\n",
    "nPD = 11"
   ]
  },
  {
   "cell_type": "code",
   "execution_count": null,
   "metadata": {
    "collapsed": true
   },
   "outputs": [],
   "source": [
    "data_directory = \"/eos/cms/store/user/fsiroky/consistentlumih5/\"\n",
    "label_file = \"/afs/cern.ch/user/t/tkrzyzek/Documents/Data-Certification/JetHT.json\"\n",
    "model_directory = \"/eos/user/t/tkrzyzek/autoencoder/batch_norm/\"\n",
    "model_name = \"model\""
   ]
  },
  {
   "cell_type": "code",
   "execution_count": null,
   "metadata": {
    "collapsed": true
   },
   "outputs": [],
   "source": [
    "def get_file_list(directory, pds, npd, typeof, extension):\n",
    "    files = []\n",
    "    parts = [\"C\", \"D\", \"E\", \"F\", \"G\", \"H\"]\n",
    "    for p in parts:\n",
    "        files.append(\"%s%s_%s_%s%s\" % (directory, pds[npd], p, typeof, extension))\n",
    "    return files\n",
    "\n",
    "files = get_file_list(data_directory, PDs, nPD, \"background\", \".h5\")\n",
    "files = files + get_file_list(data_directory, PDs, nPD, \"signal\", \".h5\")"
   ]
  },
  {
   "cell_type": "code",
   "execution_count": null,
   "metadata": {
    "collapsed": false
   },
   "outputs": [],
   "source": [
    "# Load good and bad jets\n",
    "def get_data(files):\n",
    "    readout = np.empty([0,2813])\n",
    "    \n",
    "    for file in files:\n",
    "        jet = file.split(\"/\")[-1][:-3]\n",
    "        print(\"Reading: %s\" % jet)\n",
    "        try:\n",
    "            h5file = h5py.File(file, \"r\")\n",
    "            readout = np.concatenate((readout, h5file[jet][:]), axis=0)\n",
    "        except OSError as error:\n",
    "            print(\"This Primary Dataset doesn't have %s. %s\" % (jet, error))\n",
    "            continue\n",
    "\n",
    "    return readout\n",
    "\n",
    "data = pd.DataFrame(get_data(files))"
   ]
  },
  {
   "cell_type": "code",
   "execution_count": null,
   "metadata": {
    "collapsed": false
   },
   "outputs": [],
   "source": [
    "data[\"run\"] = data[2807].astype(int)\n",
    "data[\"lumi\"] = data[2808].astype(int)\n",
    "data[\"inst_lumi\"] = data[2809].astype(float)\n",
    "\n",
    "# Drop unnecessary meta data\n",
    "data.drop([2807, 2808, 2809, 2810, 2811, 2812], axis=1, inplace=True)\n",
    "\n",
    "# Sort by runID and then by lumiID\n",
    "data = data.sort_values([\"run\", \"lumi\"], ascending=[True,True])\n",
    "\n",
    "# Reset index\n",
    "data = data.reset_index(drop=True)  \n",
    "\n",
    "runIDs  = data[\"run\"].astype(int)\n",
    "lumiIDs = data[\"lumi\"].astype(int)\n",
    "luminosity = data[\"inst_lumi\"].astype(float)"
   ]
  },
  {
   "cell_type": "code",
   "execution_count": null,
   "metadata": {
    "collapsed": true
   },
   "outputs": [],
   "source": [
    "# Apply labels\n",
    "output_json = json.load(open(label_file))\n",
    "\n",
    "def json_checker(json_file, orig_runid, orig_lumid):\n",
    "    try:\n",
    "        for i in json_file[str(int(orig_runid))]:\n",
    "            if orig_lumid >= i[0] and orig_lumid <= i[1]:\n",
    "                return 0\n",
    "    except KeyError:\n",
    "        pass\n",
    "    return 1\n",
    "\n",
    "def add_flags(sample):\n",
    "    return json_checker(output_json, sample[\"run\"], sample[\"lumi\"])\n",
    "\n",
    "data[\"label\"] = data.apply(add_flags, axis=1)"
   ]
  },
  {
   "cell_type": "code",
   "execution_count": 10,
   "metadata": {
    "collapsed": false,
    "scrolled": false
   },
   "outputs": [],
   "source": [
    "# treshold = 4e7\n",
    "# plt.rcParams['figure.figsize'] = [40, 20]\n",
    "# plt.hist(data.iloc[:, :2807].values.reshape(-1), bins=1000)\n",
    "# plt.xscale('log')\n",
    "# plt.yscale('log')\n",
    "# plt.axvline(treshold, color='r')\n",
    "# plt.ylabel(\"Feature value\")\n",
    "# plt.xlabel(\"Number of feature values\")\n",
    "# plt.title(\"Histogram of all feature values of all lumisections\")\n",
    "# plt.show()"
   ]
  },
  {
   "cell_type": "code",
   "execution_count": 11,
   "metadata": {
    "collapsed": false,
    "scrolled": false
   },
   "outputs": [],
   "source": [
    "# data['keep'] = data.apply(lambda row: all([x < treshold for x in row]), axis = 1)"
   ]
  },
  {
   "cell_type": "code",
   "execution_count": 12,
   "metadata": {
    "collapsed": false
   },
   "outputs": [],
   "source": [
    "# data[data['keep'] == False].shape"
   ]
  },
  {
   "cell_type": "code",
   "execution_count": 12,
   "metadata": {
    "collapsed": true
   },
   "outputs": [],
   "source": [
    "data_orig = data"
   ]
  },
  {
   "cell_type": "code",
   "execution_count": 13,
   "metadata": {
    "collapsed": false
   },
   "outputs": [
    {
     "name": "stdout",
     "output_type": "stream",
     "text": [
      "Before: (16368, 2811)\n",
      "After: (16368, 2811)\n"
     ]
    }
   ],
   "source": [
    "# Split the data\n",
    "SPLIT_FACTOR = 0.1\n",
    "\n",
    "split = round(SPLIT_FACTOR*len(data))\n",
    "\n",
    "runIDs = runIDs[split:]\n",
    "lumiIDs = lumiIDs[split:]\n",
    "luminosity = luminosity[split:]\n",
    "\n",
    "train = data.iloc[:split]\n",
    "print(\"Before:\", train.shape)\n",
    "# train = train[train['keep'] == True]\n",
    "print(\"After:\", train.shape)\n",
    "X_train = train.iloc[:, 0:2806]\n",
    "y_train = train[\"label\"]\n",
    "\n",
    "test = data.iloc[split:]\n",
    "X_test = test.iloc[:, 0:2806]\n",
    "y_test = test[\"label\"]\n",
    "\n",
    "normalizer = StandardScaler()\n",
    "X_train_norm = normalizer.fit_transform(X_train)\n",
    "X_test_norm = normalizer.transform(X_test)\n",
    "\n",
    "# Train only on good\n",
    "X_train = X_train[y_train == 0]\n",
    "X_train_norm = X_train_norm[y_train == 0]\n",
    "\n",
    "input_dim = X_train.shape[1]"
   ]
  },
  {
   "cell_type": "code",
   "execution_count": 19,
   "metadata": {
    "collapsed": false
   },
   "outputs": [
    {
     "name": "stdout",
     "output_type": "stream",
     "text": [
      "_________________________________________________________________\n",
      "Layer (type)                 Output Shape              Param #   \n",
      "=================================================================\n",
      "input_4 (InputLayer)         (None, 2806)              0         \n",
      "_________________________________________________________________\n",
      "batch_normalization_9 (Batch (None, 2806)              11224     \n",
      "_________________________________________________________________\n",
      "dense_7 (Dense)              (None, 2000)              5614000   \n",
      "_________________________________________________________________\n",
      "p_re_lu_6 (PReLU)            (None, 2000)              2000      \n",
      "_________________________________________________________________\n",
      "batch_normalization_10 (Batc (None, 2000)              8000      \n",
      "_________________________________________________________________\n",
      "dense_8 (Dense)              (None, 1000)              2001000   \n",
      "_________________________________________________________________\n",
      "p_re_lu_7 (PReLU)            (None, 1000)              1000      \n",
      "_________________________________________________________________\n",
      "batch_normalization_11 (Batc (None, 1000)              4000      \n",
      "_________________________________________________________________\n",
      "dense_9 (Dense)              (None, 500)               500500    \n",
      "_________________________________________________________________\n",
      "p_re_lu_8 (PReLU)            (None, 500)               500       \n",
      "_________________________________________________________________\n",
      "batch_normalization_12 (Batc (None, 500)               2000      \n",
      "_________________________________________________________________\n",
      "dense_10 (Dense)             (None, 1000)              501000    \n",
      "_________________________________________________________________\n",
      "p_re_lu_9 (PReLU)            (None, 1000)              1000      \n",
      "_________________________________________________________________\n",
      "batch_normalization_13 (Batc (None, 1000)              4000      \n",
      "_________________________________________________________________\n",
      "dense_11 (Dense)             (None, 2000)              2002000   \n",
      "_________________________________________________________________\n",
      "p_re_lu_10 (PReLU)           (None, 2000)              2000      \n",
      "_________________________________________________________________\n",
      "batch_normalization_14 (Batc (None, 2000)              8000      \n",
      "_________________________________________________________________\n",
      "dense_12 (Dense)             (None, 2806)              5614806   \n",
      "=================================================================\n",
      "Total params: 16,277,030\n",
      "Trainable params: 16,258,418\n",
      "Non-trainable params: 18,612\n",
      "_________________________________________________________________\n"
     ]
    }
   ],
   "source": [
    "input_layer = Input(shape=(input_dim, ))\n",
    "\n",
    "x = BatchNormalization()(input_layer)\n",
    "x = Dense(2000, kernel_regularizer=l1_l2(10e-5))(x)\n",
    "x = PReLU()(x)\n",
    "\n",
    "x = BatchNormalization()(x)\n",
    "x = Dense(1000, kernel_regularizer=l1_l2(10e-5))(x)\n",
    "x = PReLU()(x)\n",
    "\n",
    "x = BatchNormalization()(x)\n",
    "x = Dense(500, kernel_regularizer=l1_l2(10e-5))(x)\n",
    "x = PReLU()(x)\n",
    "\n",
    "x = BatchNormalization()(x)\n",
    "x = Dense(1000, kernel_regularizer=l1_l2(10e-5))(x)\n",
    "x = PReLU()(x)\n",
    "\n",
    "x = BatchNormalization()(x)\n",
    "x = Dense(2000, kernel_regularizer=l1_l2(10e-5))(x)\n",
    "x = PReLU()(x)\n",
    "\n",
    "x = BatchNormalization()(x)\n",
    "x = Dense(input_dim)(x)\n",
    "x = linear(x)\n",
    "\n",
    "autoencoder = Model(inputs=input_layer, outputs=x)\n",
    "\n",
    "autoencoder.summary()"
   ]
  },
  {
   "cell_type": "code",
   "execution_count": 17,
   "metadata": {
    "collapsed": false
   },
   "outputs": [],
   "source": [
    "X_train = X_train.values\n",
    "X_test = X_test.values"
   ]
  },
  {
   "cell_type": "code",
   "execution_count": 18,
   "metadata": {
    "collapsed": false
   },
   "outputs": [
    {
     "name": "stdout",
     "output_type": "stream",
     "text": [
      "_________________________________________________________________\n",
      "Layer (type)                 Output Shape              Param #   \n",
      "=================================================================\n",
      "input_3 (InputLayer)         (None, 2806)              0         \n",
      "_________________________________________________________________\n",
      "batch_normalization_8 (Batch (None, 2806)              11224     \n",
      "=================================================================\n",
      "Total params: 11,224\n",
      "Trainable params: 5,612\n",
      "Non-trainable params: 5,612\n",
      "_________________________________________________________________\n"
     ]
    }
   ],
   "source": [
    "input_layer = Input(shape=(input_dim, ))\n",
    "\n",
    "x = BatchNormalization()(input_layer)\n",
    "\n",
    "norm_model = Model(inputs=input_layer, outputs=x)\n",
    "\n",
    "norm_model.summary()\n",
    "\n",
    "adamm = keras.optimizers.Adam(lr=0.0001, beta_1=0.9, beta_2=0.999, epsilon=1e-08, decay=0.0)\n",
    "\n",
    "norm_model.compile(optimizer=adamm, loss='mean_squared_error')\n",
    "\n",
    "X_train_minibatch_norm = norm_model.predict(X_train)"
   ]
  },
  {
   "cell_type": "code",
   "execution_count": 20,
   "metadata": {
    "collapsed": true
   },
   "outputs": [],
   "source": [
    "adamm = keras.optimizers.Adam(lr=0.0001, beta_1=0.9, beta_2=0.999, epsilon=1e-08, decay=0.0)\n",
    "\n",
    "early_stopper = EarlyStopping(monitor=\"val_loss\",\n",
    "                              patience=32,\n",
    "                              verbose=True,\n",
    "                              mode=\"auto\")\n",
    "\n",
    "autoencoder.compile(optimizer=adamm, loss='mean_squared_error')\n",
    "\n",
    "checkpoint_callback = ModelCheckpoint((\"%s%s.h5\" % (model_directory, model_name)),\n",
    "                                      monitor=\"val_loss\",\n",
    "                                      verbose=False,\n",
    "                                      save_best_only=True,\n",
    "                                      mode=\"min\")"
   ]
  },
  {
   "cell_type": "code",
   "execution_count": 21,
   "metadata": {
    "collapsed": false,
    "scrolled": true
   },
   "outputs": [
    {
     "name": "stdout",
     "output_type": "stream",
     "text": [
      "Train on 11859 samples, validate on 3954 samples\n",
      "Epoch 1/64\n",
      "41s - loss: 3435161384.5134 - val_loss: 443383402.8366\n",
      "Epoch 2/64\n",
      "27s - loss: 3435149664.3211 - val_loss: 443377041.0197\n",
      "Epoch 3/64\n",
      "31s - loss: 3435141703.7582 - val_loss: 443369328.0567\n",
      "Epoch 4/64\n",
      "37s - loss: 3435136843.1394 - val_loss: 443362455.9150\n",
      "Epoch 5/64\n",
      "30s - loss: 3435132248.7333 - val_loss: 443356242.5979\n",
      "Epoch 6/64\n",
      "29s - loss: 3435122420.5656 - val_loss: 443355990.9277\n",
      "Epoch 7/64\n",
      "2s - loss: 3435116005.0809 - val_loss: 443357456.9631\n",
      "Epoch 8/64\n",
      "2s - loss: 3435104281.7863 - val_loss: 443359880.0931\n",
      "Epoch 9/64\n",
      "2s - loss: 3435091054.4866 - val_loss: 443368030.0253\n",
      "Epoch 10/64\n",
      "2s - loss: 3435083410.3058 - val_loss: 443368391.0086\n",
      "Epoch 11/64\n",
      "2s - loss: 3435072814.2663 - val_loss: 443368279.2514\n",
      "Epoch 12/64\n",
      "2s - loss: 3435064270.7854 - val_loss: 443363350.1345\n",
      "Epoch 13/64\n",
      "2s - loss: 3435050981.7562 - val_loss: 443356809.4284\n",
      "Epoch 14/64\n",
      "28s - loss: 3435039983.1922 - val_loss: 443354669.1512\n",
      "Epoch 15/64\n",
      "32s - loss: 3435035870.9126 - val_loss: 443345958.2479\n",
      "Epoch 16/64\n",
      "17s - loss: 3435025339.3473 - val_loss: 443332106.8204\n",
      "Epoch 17/64\n",
      "2s - loss: 3435013561.7114 - val_loss: 443339233.9666\n",
      "Epoch 18/64\n",
      "35s - loss: 3434994639.2536 - val_loss: 443327449.1533\n",
      "Epoch 19/64\n",
      "28s - loss: 3434992307.6573 - val_loss: 443316625.8857\n",
      "Epoch 20/64\n",
      "27s - loss: 3435001262.5968 - val_loss: 443313970.9944\n",
      "Epoch 21/64\n",
      "25s - loss: 3434969478.3142 - val_loss: 443306774.6525\n",
      "Epoch 22/64\n",
      "31s - loss: 3434972093.2854 - val_loss: 443289082.1406\n",
      "Epoch 23/64\n",
      "2s - loss: 3434952168.6969 - val_loss: 443294026.2944\n",
      "Epoch 24/64\n",
      "27s - loss: 3434947389.6214 - val_loss: 443271290.7800\n",
      "Epoch 25/64\n",
      "34s - loss: 3434936096.5813 - val_loss: 443254520.4249\n",
      "Epoch 26/64\n",
      "34s - loss: 3434912981.9012 - val_loss: 443253333.7865\n",
      "Epoch 27/64\n",
      "32s - loss: 3434931658.1725 - val_loss: 443235798.3369\n",
      "Epoch 28/64\n",
      "39s - loss: 3434914085.2483 - val_loss: 443212780.8599\n",
      "Epoch 29/64\n",
      "18s - loss: 3434893193.5307 - val_loss: 443208618.9580\n",
      "Epoch 30/64\n",
      "35s - loss: 3434880644.4242 - val_loss: 443196689.5781\n",
      "Epoch 31/64\n",
      "2s - loss: 3434866554.9399 - val_loss: 443223667.2210\n",
      "Epoch 32/64\n",
      "2s - loss: 3434854928.9728 - val_loss: 443227767.7936\n",
      "Epoch 33/64\n",
      "2s - loss: 3434854057.7627 - val_loss: 443220781.5721\n",
      "Epoch 34/64\n",
      "9s - loss: 3434842833.5556 - val_loss: 443192466.9297\n",
      "Epoch 35/64\n",
      "2s - loss: 3434829654.1830 - val_loss: 443195065.7602\n",
      "Epoch 36/64\n",
      "13s - loss: 3434835917.5485 - val_loss: 443176895.0612\n",
      "Epoch 37/64\n",
      "27s - loss: 3434805068.2945 - val_loss: 443176746.6909\n",
      "Epoch 38/64\n",
      "15s - loss: 3434796713.9371 - val_loss: 443156229.6571\n",
      "Epoch 39/64\n",
      "2s - loss: 3434786179.1436 - val_loss: 443163522.0314\n",
      "Epoch 40/64\n",
      "27s - loss: 3434791419.3989 - val_loss: 443152031.5225\n",
      "Epoch 41/64\n",
      "4s - loss: 3434792133.6376 - val_loss: 443133598.6646\n",
      "Epoch 42/64\n",
      "2s - loss: 3434758973.8207 - val_loss: 443146662.4340\n",
      "Epoch 43/64\n",
      "2s - loss: 3434752804.8911 - val_loss: 443138995.7957\n",
      "Epoch 44/64\n",
      "2s - loss: 3434746611.3915 - val_loss: 443150059.7592\n",
      "Epoch 45/64\n",
      "2s - loss: 3434723770.7432 - val_loss: 443150560.3723\n",
      "Epoch 46/64\n",
      "2s - loss: 3434720519.4765 - val_loss: 443149410.7921\n",
      "Epoch 47/64\n",
      "4s - loss: 3434723793.8153 - val_loss: 443118306.3389\n",
      "Epoch 48/64\n",
      "26s - loss: 3434706198.9578 - val_loss: 443116434.7436\n",
      "Epoch 49/64\n",
      "2s - loss: 3434697119.5467 - val_loss: 443126823.5589\n",
      "Epoch 50/64\n",
      "37s - loss: 3434691639.8475 - val_loss: 443115860.7183\n",
      "Epoch 51/64\n",
      "19s - loss: 3434681963.6401 - val_loss: 443104514.4603\n",
      "Epoch 52/64\n",
      "17s - loss: 3434659139.9619 - val_loss: 443086519.6641\n",
      "Epoch 53/64\n",
      "2s - loss: 3434671268.0309 - val_loss: 443104964.8801\n",
      "Epoch 54/64\n",
      "2s - loss: 3434639110.6083 - val_loss: 443090056.2468\n",
      "Epoch 55/64\n",
      "22s - loss: 3434646536.0806 - val_loss: 443064451.2291\n",
      "Epoch 56/64\n",
      "17s - loss: 3434658315.3817 - val_loss: 443023540.6697\n",
      "Epoch 57/64\n",
      "2s - loss: 3434620998.3439 - val_loss: 443058542.9965\n",
      "Epoch 58/64\n",
      "2s - loss: 3434604044.6287 - val_loss: 443052634.5210\n",
      "Epoch 59/64\n",
      "2s - loss: 3434604751.6775 - val_loss: 443068796.3257\n",
      "Epoch 60/64\n",
      "2s - loss: 3434564044.6877 - val_loss: 443098863.5549\n",
      "Epoch 61/64\n",
      "2s - loss: 3434607636.1155 - val_loss: 443097686.2236\n",
      "Epoch 62/64\n",
      "2s - loss: 3434567909.4172 - val_loss: 443077137.2382\n",
      "Epoch 63/64\n",
      "2s - loss: 3434529887.0421 - val_loss: 443094371.0673\n",
      "Epoch 64/64\n",
      "2s - loss: 3434538182.8950 - val_loss: 443086303.8139\n"
     ]
    },
    {
     "data": {
      "text/plain": [
       "<keras.callbacks.History at 0x7f2544399f60>"
      ]
     },
     "execution_count": 21,
     "metadata": {},
     "output_type": "execute_result"
    }
   ],
   "source": [
    "autoencoder.fit(X_train,\n",
    "                X_train_minibatch_norm,\n",
    "                epochs=64,\n",
    "                batch_size=256,\n",
    "                validation_split=0.25,\n",
    "                verbose=2,\n",
    "                callbacks=[early_stopper, checkpoint_callback])"
   ]
  },
  {
   "cell_type": "code",
   "execution_count": 22,
   "metadata": {
    "collapsed": false
   },
   "outputs": [],
   "source": [
    "# Reload saved model\n",
    "autoencoder = load_model(\"%s%s.h5\" % (model_directory, model_name))"
   ]
  },
  {
   "cell_type": "code",
   "execution_count": 23,
   "metadata": {
    "collapsed": false
   },
   "outputs": [],
   "source": [
    "# Run predictions\n",
    "predictions = autoencoder.predict(X_test)\n",
    "\n",
    "def get_error_df(X_test, predictions, mode=\"allmean\", n_highest = 100):\n",
    "    \n",
    "    if mode == \"allmean\":\n",
    "        return np.mean(np.power(X_test - predictions, 2), axis=1)\n",
    "    \n",
    "    elif mode == \"topn\":\n",
    "        temp = np.partition(-np.power(X_test - predictions, 2), n_highest)\n",
    "        result = -temp[:,:n_highest]\n",
    "        return np.mean(result, axis=1)\n",
    "    \n",
    "    elif mode == \"perobj\":\n",
    "        mses = []\n",
    "        for l in legend:\n",
    "            mse = np.mean(\n",
    "                np.power(X_test[:,l[\"start\"]:l[\"end\"]] - predictions[:,l[\"start\"]:l[\"end\"]], 2),\n",
    "                axis=1)\n",
    "            mses.append(mse)\n",
    "     \n",
    "        return np.maximum.reduce(mses)\n",
    "    \n",
    "ae_error = get_error_df(X_test, predictions, mode=\"topn\")"
   ]
  },
  {
   "cell_type": "code",
   "execution_count": 24,
   "metadata": {
    "collapsed": false
   },
   "outputs": [
    {
     "data": {
      "image/png": "[encoded data removed]",
      "text/plain": [
       "<matplotlib.figure.Figure at 0x7f216c01cef0>"
      ]
     },
     "metadata": {},
     "output_type": "display_data"
    }
   ],
   "source": [
    "# Make ROC_curve\n",
    "\n",
    "from sklearn.metrics import auc, roc_curve, roc_auc_score                          \n",
    "\n",
    "def get_roc_curve(label, scores, names):\n",
    "    \"\"\"Generates ROC Curves for a given array\"\"\"\n",
    "    fig, ax = plt.subplots()\n",
    "    \n",
    "    for i in range(len(scores)):\n",
    "        fpr, tpr, thresholds = roc_curve(label, scores[i])\n",
    "        roc_auc = auc(fpr, tpr)\n",
    "\n",
    "        plt.plot(fpr,\n",
    "                 tpr,\n",
    "                 linewidth=3,\n",
    "                 #linestyle=line_styles[0],\n",
    "                 label=(\"%s AUC: %s\" % (names[i], roc_auc)))\n",
    "        \n",
    "    plt.legend(frameon=False)\n",
    "    plt.ylabel(\"Sensitivity (TPR)\")\n",
    "    plt.xlabel(\"Fall-out (TNR)\")\n",
    "    plt.ylim([0, 1])\n",
    "    plt.xlim([0, 1])\n",
    "    plt.title('ROC curves for AE with batchnorm')\n",
    "    plt.show();\n",
    "    \n",
    "get_roc_curve(y_test, [ae_error], ['name'])"
   ]
  },
  {
   "cell_type": "code",
   "execution_count": 64,
   "metadata": {
    "collapsed": true
   },
   "outputs": [],
   "source": [
    "# model_directory = \"/afs/cern.ch/user/t/tkrzyzek/Documents/Data-Certification/temp/\""
   ]
  },
  {
   "cell_type": "code",
   "execution_count": 65,
   "metadata": {
    "collapsed": false
   },
   "outputs": [],
   "source": [
    "pickle.dump(ae_error, open(model_directory + \"ae_error.p\", \"wb\"))"
   ]
  },
  {
   "cell_type": "code",
   "execution_count": null,
   "metadata": {
    "collapsed": true
   },
   "outputs": [],
   "source": []
  }
 ],
 "metadata": {
  "kernelspec": {
   "display_name": "Python 3",
   "language": "python",
   "name": "python3"
  }
 },
 "nbformat": 4,
 "nbformat_minor": 2
}
